{
  "nbformat": 4,
  "nbformat_minor": 0,
  "metadata": {
    "colab": {
      "name": "Untitled0.ipynb",
      "provenance": [],
      "authorship_tag": "ABX9TyObzoFNSyWXIk2QTM/R5OuN"
    },
    "kernelspec": {
      "name": "python3",
      "display_name": "Python 3"
    },
    "language_info": {
      "name": "python"
    }
  },
  "cells": [
    {
      "cell_type": "markdown",
      "metadata": {
        "id": "zmSyigJF-iEb"
      },
      "source": [
        "Малофеев Иван Васильевич 20930\n",
        "Расчётное задание №2"
      ]
    },
    {
      "cell_type": "code",
      "metadata": {
        "id": "A6eNKknj-3UD"
      },
      "source": [
        "# Импортируем библиотеки\n",
        "import math\n",
        "import numpy as np"
      ],
      "execution_count": null,
      "outputs": []
    },
    {
      "cell_type": "markdown",
      "metadata": {
        "id": "FP4W_YTOCH5a"
      },
      "source": [
        "Изначальные данные:"
      ]
    },
    {
      "cell_type": "code",
      "metadata": {
        "id": "IkFcukUKCK2y"
      },
      "source": [
        "con = 8         # Количество концентраторов\n",
        "sp = 2400       # Скорость передачи, бит/с\n",
        "val = 1200      # Средняя длина пакета, бит\n",
        "bw1 = 8         # Интенсивность входного потока днем (с 8 до 24 часов)\n",
        "bw2 = 0.5       # Интенсивность входного потока ночью (с 0 до 8 часов)\n",
        "buff = 1        # Размер буфера, пакетов"
      ],
      "execution_count": null,
      "outputs": []
    },
    {
      "cell_type": "markdown",
      "metadata": {
        "id": "NAG_zjs3_FJE"
      },
      "source": [
        "Первое задание \\\n",
        "Делал по вот этой формуле из самого задания: "
      ]
    },
    {
      "cell_type": "markdown",
      "metadata": {
        "id": "SXdnc_Q1_y61"
      },
      "source": [
        "![Screenshot from 2021-11-28 12-22-40.png](data:image/png;base64,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)"
      ]
    },
    {
      "cell_type": "markdown",
      "metadata": {
        "id": "dxm-NBwG_7sM"
      },
      "source": [
        "Где n - количество концентраторов, \\\n",
        "s, m - максимальный размер очереди, \\\n",
        "p - интенсивность потока днем или ночью \\\n",
        "i, w - в нашей задаче отсутствуют"
      ]
    },
    {
      "cell_type": "code",
      "metadata": {
        "id": "3D5mojL4AzOS"
      },
      "source": [
        "# k - Количество концентраторов\n",
        "# v - Скорость передачи, бит/с\n",
        "# n - Средняя длина пакета, бит\n",
        "# bw - Интенсивность входного потока\n",
        "# b - Размер буфера, пакетов\n",
        "\n",
        "def task1(k, v, n, bw, b):\n",
        "    # Средняя пропускная способность\n",
        "    u = v / n   \n",
        "    # Интенсивность нагрузки канала       \n",
        "    p1 = bw / u\n",
        "\n",
        "    # Как сказал лектор, у нас одна очередь в размере суммы буфферов каждого из\n",
        "    # концентраторов и размера буффера минус один\n",
        "    m = k * b + b - 1\n",
        "    \n",
        "    # Далее по формуле\n",
        "    top = (p1 ** k / math.factorial(k)) * (p1 ** m / k ** m)\n",
        "\n",
        "    bot1 = 0\n",
        "    for j in range(0, k + 1):\n",
        "        bot1 += p1 ** j / math.factorial(j)\n",
        "\n",
        "    bot2 = 0\n",
        "    for j in range(1, m + 1):\n",
        "        bot2 += p1 ** j / k ** j\n",
        "    bot2 *= p1 ** k / math.factorial(k)\n",
        "\n",
        "    return top / (bot1 + bot2)"
      ],
      "execution_count": null,
      "outputs": []
    },
    {
      "cell_type": "code",
      "metadata": {
        "colab": {
          "base_uri": "https://localhost:8080/"
        },
        "id": "lc53Vu9gCS1e",
        "outputId": "de8c00de-b162-47a2-e9fe-a413df4a66fc"
      },
      "source": [
        "# Проверка работы\n",
        "print(\"Probability of blocking a daytime package\", task1(con, sp, val, bw1, buff))\n",
        "print(\"Probability of blocking a nighttime package\", task1(con, sp, val, bw2, buff))"
      ],
      "execution_count": null,
      "outputs": [
        {
          "output_type": "stream",
          "name": "stdout",
          "text": [
            "Probability of blocking a daytime package 0.00011533360244507237\n",
            "Probability of blocking a nighttime package 2.6805634950428284e-22\n"
          ]
        }
      ]
    },
    {
      "cell_type": "markdown",
      "metadata": {
        "id": "LOq0hEO7A0OZ"
      },
      "source": [
        "Второе задание: \\\n",
        "Я взял код лектора и адаптировал под n концентраторов"
      ]
    },
    {
      "cell_type": "code",
      "metadata": {
        "id": "GXa34x14C4-4"
      },
      "source": [
        "# bw - интенсивность потока\n",
        "# k - количество концентраторов\n",
        "# mu - пропускная способность\n",
        "# m - максимальная очередь\n",
        "\n",
        "def task2(bw, k, mu, m):\n",
        "    np.random.seed(100)\n",
        "\n",
        "    n_rep = 1\n",
        "    p_refuse = 0\n",
        "\n",
        "    n_lost = 0\n",
        "    n_packets = 10000000\n",
        "    for i in range(n_rep):\n",
        "        t = 0\n",
        "        queue = 0\n",
        "        t_free = np.zeros(k)\n",
        "\n",
        "        for f in range(n_packets):\n",
        "            t += np.random.exponential(scale=1 / bw)\n",
        "            n = 0\n",
        "            if queue > 0:\n",
        "                for j in range(k):\n",
        "                    while t_free[j] < t and queue > 0:\n",
        "                        t_free[j] += np.random.exponential(scale=1/mu)\n",
        "                        queue -= 1\n",
        "            for h in range(k):\n",
        "                if t_free[h] < t:\n",
        "                    t_free[h] = t + np.random.exponential(scale=1/mu)\n",
        "                    break\n",
        "                else:\n",
        "                    n += 1\n",
        "            if n == k:\n",
        "                if queue < m:\n",
        "                    queue += 1\n",
        "                else:\n",
        "                    n_lost += 1\n",
        "    p_refuse += n_lost/n_packets\n",
        "\n",
        "    p_refuse /= n_rep\n",
        "\n",
        "    return p_refuse"
      ],
      "execution_count": null,
      "outputs": []
    },
    {
      "cell_type": "code",
      "metadata": {
        "id": "7NAURIZUDbJl"
      },
      "source": [
        "# Проверка кода\n",
        "print(\"Probability of blocking a daytime package by Monte-Carlo\", task2(bw1, con, sp / val, con * buff + buff - 1))\n",
        "print(\"Probability of blocking a daytime package by Monte-Carlo\", task2(bw2, con, sp / val, con * buff + buff - 1))"
      ],
      "execution_count": null,
      "outputs": []
    },
    {
      "cell_type": "markdown",
      "metadata": {
        "id": "XIZ9BqS7Dmir"
      },
      "source": [
        "Третья задача: \\\n",
        "Просто выполнял код из первой задачи, сравнивал выдаваемое \\\n",
        "значение с 0.0001, если больше, то увеличить буффер на один, \\\n",
        "если меньше, то вывести предпочитаемое количество буфферов"
      ]
    },
    {
      "cell_type": "code",
      "metadata": {
        "id": "GUNE-9HREEzc"
      },
      "source": [
        "# k - Количество концентраторов\n",
        "# v - Скорость передачи, бит/с\n",
        "# n - Средняя длина пакета, бит\n",
        "# bw - Интенсивность входного потока\n",
        "# b - Размер буфера, пакетов\n",
        "\n",
        "def task3(k, v, n, bw, b):\n",
        "    a = 1\n",
        "    while 1:\n",
        "        a = task1(k, v, n, bw, b)\n",
        "        if a > 0.0001:\n",
        "            b += 1\n",
        "        else:\n",
        "            break\n",
        "    print(\"Preferable buffer size: \", b)"
      ],
      "execution_count": null,
      "outputs": []
    },
    {
      "cell_type": "code",
      "metadata": {
        "id": "Mws6oRBYEKhR"
      },
      "source": [
        "# Проверка кода\n",
        "task3(con, sp, val, bw1, buff)"
      ],
      "execution_count": null,
      "outputs": []
    }
  ]
}